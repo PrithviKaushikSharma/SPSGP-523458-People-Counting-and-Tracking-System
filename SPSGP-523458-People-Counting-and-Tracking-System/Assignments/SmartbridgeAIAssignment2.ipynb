{
  "nbformat": 4,
  "nbformat_minor": 0,
  "metadata": {
    "colab": {
      "provenance": []
    },
    "kernelspec": {
      "name": "python3",
      "display_name": "Python 3"
    },
    "language_info": {
      "name": "python"
    }
  },
  "cells": [
    {
      "cell_type": "code",
      "source": [
        "import pandas as pd\n",
        "import numpy as np\n",
        "from sklearn.preprocessing import LabelEncoder\n",
        "from sklearn.model_selection import train_test_split\n",
        "\n",
        "from tensorflow.keras.models import Sequential\n",
        "from tensorflow.keras.layers import Dense\n",
        "\n",
        "\n",
        "# Load the dataset\n",
        "data = pd.read_csv(\"/content/sample_data/drug200.csv\")\n",
        "\n",
        "# Display the first few rows of the dataset\n",
        "print(data.head())\n"
      ],
      "metadata": {
        "colab": {
          "base_uri": "https://localhost:8080/"
        },
        "id": "1BO5RGzxbXKT",
        "outputId": "5bc3ce43-8e0a-469c-d27e-317c67a0d9ad"
      },
      "execution_count": 27,
      "outputs": [
        {
          "output_type": "stream",
          "name": "stdout",
          "text": [
            "   Age Sex      BP Cholesterol  Na_to_K   Drug\n",
            "0   23   F    HIGH        HIGH   25.355  DrugY\n",
            "1   47   M     LOW        HIGH   13.093  drugC\n",
            "2   47   M     LOW        HIGH   10.114  drugC\n",
            "3   28   F  NORMAL        HIGH    7.798  drugX\n",
            "4   61   F     LOW        HIGH   18.043  DrugY\n"
          ]
        }
      ]
    },
    {
      "cell_type": "code",
      "source": [
        "\n",
        "\n",
        "# Drop any rows with missing values\n",
        "data.dropna(inplace=True)\n",
        "\n",
        "# Convert categorical variables to numerical values\n",
        "label_encoder = LabelEncoder()\n",
        "data['Sex'] = label_encoder.fit_transform(data['Sex'])\n",
        "data['BP'] = label_encoder.fit_transform(data['BP'])\n",
        "data['Cholesterol'] = label_encoder.fit_transform(data['Cholesterol'])\n",
        "data['Drug'] = label_encoder.fit_transform(data['Drug'])\n",
        "\n",
        "# Split the data into input features (X) and target variable (y)\n",
        "X = data.drop('Drug', axis=1)\n",
        "y = data['Drug']\n",
        "\n",
        "# Split the data into training and testing sets\n",
        "X_train, X_test, y_train, y_test = train_test_split(X, y, test_size=0.2, random_state=42)\n"
      ],
      "metadata": {
        "id": "JVgIj1t2Savm"
      },
      "execution_count": 28,
      "outputs": []
    },
    {
      "cell_type": "code",
      "source": [
        "# Initialize the ANN model\n",
        "model = Sequential()\n",
        "\n",
        "# Add input layer and first hidden layer\n",
        "model.add(Dense(units=64, activation='relu', input_dim=X.shape[1]))\n",
        "\n",
        "# Add additional hidden layers\n",
        "model.add(Dense(units=64, activation='relu'))\n",
        "model.add(Dense(units=64, activation='relu'))\n",
        "\n",
        "# Add output layer\n",
        "model.add(Dense(units=len(label_encoder.classes_), activation='softmax'))\n",
        "\n",
        "# Compile the model\n",
        "model.compile(optimizer='adam', loss='sparse_categorical_crossentropy', metrics=['accuracy'])\n",
        "\n",
        "# Print the model summary\n",
        "model.summary()\n"
      ],
      "metadata": {
        "colab": {
          "base_uri": "https://localhost:8080/"
        },
        "id": "FlgFaHqcSbDe",
        "outputId": "1ab48a0f-5fc4-49c7-a6d1-5c1778a115b9"
      },
      "execution_count": 32,
      "outputs": [
        {
          "output_type": "stream",
          "name": "stdout",
          "text": [
            "Model: \"sequential_3\"\n",
            "_________________________________________________________________\n",
            " Layer (type)                Output Shape              Param #   \n",
            "=================================================================\n",
            " dense_12 (Dense)            (None, 64)                384       \n",
            "                                                                 \n",
            " dense_13 (Dense)            (None, 64)                4160      \n",
            "                                                                 \n",
            " dense_14 (Dense)            (None, 64)                4160      \n",
            "                                                                 \n",
            " dense_15 (Dense)            (None, 5)                 325       \n",
            "                                                                 \n",
            "=================================================================\n",
            "Total params: 9,029\n",
            "Trainable params: 9,029\n",
            "Non-trainable params: 0\n",
            "_________________________________________________________________\n"
          ]
        }
      ]
    },
    {
      "cell_type": "code",
      "source": [
        "# Convert categorical variables to numerical values with handling unseen labels\n",
        "label_encoder = LabelEncoder()\n",
        "label_encoder.fit(data['Drug'])  # Fit the encoder on the entire dataset\n",
        "\n",
        "# Generate random data for testing\n",
        "random_data = pd.DataFrame({\n",
        "    'Age': [35],\n",
        "    'Sex': [0],  # 0: Female, 1: Male\n",
        "    'BP': [2],  # 0: Low, 1: Normal, 2: High\n",
        "    'Cholesterol': [1],  # 0: Normal, 1: High\n",
        "    'Na_to_K': [15]\n",
        "})\n",
        "\n",
        "# Convert categorical variables to numerical values with handling unseen labels\n",
        "random_data['Sex'] = label_encoder.transform(random_data['Sex'])\n",
        "random_data['BP'] = label_encoder.transform(random_data['BP'])\n",
        "random_data['Cholesterol'] = label_encoder.transform(random_data['Cholesterol'])\n",
        "\n",
        "# Normalize the input features\n",
        "normalized_random_data = (random_data - X.mean()) / X.std()\n",
        "\n",
        "# Make predictions\n",
        "predictions = model.predict(normalized_random_data)\n",
        "predicted_class = label_encoder.inverse_transform(np.argmax(predictions, axis=1))\n",
        "\n",
        "# Print the predicted class\n",
        "print(\"Predicted Drug Category:\", predicted_class[0])\n"
      ],
      "metadata": {
        "colab": {
          "base_uri": "https://localhost:8080/"
        },
        "id": "H-JS61ebSbQ3",
        "outputId": "3c323c37-0762-4755-8f0f-f463dc57d17f"
      },
      "execution_count": 35,
      "outputs": [
        {
          "output_type": "stream",
          "name": "stdout",
          "text": [
            "1/1 [==============================] - 0s 46ms/step\n",
            "Predicted Drug Category: 4\n"
          ]
        }
      ]
    },
    {
      "cell_type": "code",
      "source": [],
      "metadata": {
        "id": "N8_qdYiebVaJ"
      },
      "execution_count": null,
      "outputs": []
    }
  ]
}